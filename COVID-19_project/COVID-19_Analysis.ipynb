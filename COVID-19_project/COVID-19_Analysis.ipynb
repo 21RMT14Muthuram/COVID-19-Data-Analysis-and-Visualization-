{
 "cells": [
  {
   "cell_type": "markdown",
   "id": "488994fc-9e81-498b-8949-fd9cacb4423a",
   "metadata": {},
   "source": [
    "## COVID-19 Analysis Using Python"
   ]
  },
  {
   "cell_type": "code",
   "execution_count": null,
   "id": "b6231c86-a041-4af8-b48e-5f0b924dc945",
   "metadata": {},
   "outputs": [],
   "source": [
    "import numpy as np\n",
    "import pandas as pd\n",
    "import matplotlib.pyplot as plt"
   ]
  },
  {
   "cell_type": "markdown",
   "id": "8b56912e-2bd1-4e50-b634-fc33913a1fcf",
   "metadata": {},
   "source": [
    "## Date Analysis using Pandas"
   ]
  },
  {
   "cell_type": "code",
   "execution_count": null,
   "id": "8c0cbfd5-b76e-4b05-9508-6ac022e29a69",
   "metadata": {},
   "outputs": [],
   "source": [
    "# Read the CSV file\n",
    "df = pd.read_csv('COVID_data.csv')\n",
    "df"
   ]
  },
  {
   "cell_type": "code",
   "execution_count": null,
   "id": "0ede192d-9cce-4832-af0e-1e3c3a417067",
   "metadata": {},
   "outputs": [],
   "source": [
    "# # Read the CSV file\n",
    "# df = pd.read_csv('COVID_data.csv')\n",
    "\n",
    "# # Convert the 'date' column to datetime format\n",
    "# df['Date'] = pd.to_datetime(df['Date'])\n",
    "\n",
    "# # Format the dates to 'YYYY/MM/DD'\n",
    "# df['Date'] = df['Date'].dt.strftime('%Y/%m/%d')\n",
    "\n",
    "# # Save the updated DataFrame back to a CSV file (optional)\n",
    "# df.to_csv('COVID_data.csv', index=False)\n",
    "\n",
    "# print(df)"
   ]
  },
  {
   "cell_type": "code",
   "execution_count": null,
   "id": "cb0f211e-7c42-4556-82d6-6285253d6c46",
   "metadata": {},
   "outputs": [],
   "source": [
    "df.columns"
   ]
  },
  {
   "cell_type": "code",
   "execution_count": null,
   "id": "ec0f34ba-b0d7-436c-8dab-725209e219bc",
   "metadata": {},
   "outputs": [],
   "source": [
    "df.info()"
   ]
  },
  {
   "cell_type": "code",
   "execution_count": null,
   "id": "4ae58067-65ad-4ee9-8fd5-62ee1dd507ed",
   "metadata": {},
   "outputs": [],
   "source": [
    "df.describe()"
   ]
  },
  {
   "cell_type": "code",
   "execution_count": null,
   "id": "8c908220-ad67-495a-aebd-058a2db917b6",
   "metadata": {},
   "outputs": [],
   "source": [
    "df.dtypes"
   ]
  },
  {
   "cell_type": "code",
   "execution_count": null,
   "id": "7c6c785c-f42c-47c3-a888-fd689b888b36",
   "metadata": {},
   "outputs": [],
   "source": [
    "df=df.dropna(subset=['Date'])"
   ]
  },
  {
   "cell_type": "code",
   "execution_count": null,
   "id": "d72f85b2-005d-4f54-a043-51e8172e6c4a",
   "metadata": {},
   "outputs": [],
   "source": [
    "df.head()"
   ]
  },
  {
   "cell_type": "code",
   "execution_count": null,
   "id": "40309bab-8dbf-4ec2-b396-3ee5306f8d61",
   "metadata": {},
   "outputs": [],
   "source": [
    "df.loc[df['confirmed']==0]"
   ]
  },
  {
   "cell_type": "code",
   "execution_count": null,
   "id": "feff5198-e737-4fc7-aab9-bacf23fa6f6a",
   "metadata": {},
   "outputs": [],
   "source": [
    "df.groupby(by='region')['country'].unique()"
   ]
  },
  {
   "cell_type": "code",
   "execution_count": null,
   "id": "991e2366-5b50-4472-b397-8e53eedfe123",
   "metadata": {},
   "outputs": [],
   "source": [
    "df.groupby(by='region')[['confirmed','deaths','recovered','active']].sum()\n",
    "recover=df.groupby(by='region')['recovered'].sum()\n",
    "recover"
   ]
  },
  {
   "cell_type": "code",
   "execution_count": null,
   "id": "0177b7fb-2da9-4b84-85e4-f4fc5c43f416",
   "metadata": {},
   "outputs": [],
   "source": [
    "df.loc[df['region']=='Americas']['active'].idxmax()\n",
    "# df.iloc[49030]"
   ]
  },
  {
   "cell_type": "code",
   "execution_count": null,
   "id": "782d3172-175a-47f4-b4b8-d7a514ff216b",
   "metadata": {},
   "outputs": [],
   "source": [
    "start_stage=df[df['deaths']==0][:20500]\n",
    "start_stage"
   ]
  },
  {
   "cell_type": "code",
   "execution_count": null,
   "id": "841f14ab-6737-43b0-ac8a-80ad46569168",
   "metadata": {},
   "outputs": [],
   "source": [
    "df.pivot_table(index='Date', columns='region', values='recovered', aggfunc='mean')"
   ]
  },
  {
   "attachments": {},
   "cell_type": "markdown",
   "id": "ad34dcee-e98d-44b8-b389-e18af702acb9",
   "metadata": {},
   "source": [
    "## Matplotlib.pylot"
   ]
  },
  {
   "cell_type": "code",
   "execution_count": null,
   "id": "8768bc86-9790-4219-afb3-3f9edeceef55",
   "metadata": {},
   "outputs": [],
   "source": [
    "last_month=df[(df['Date']>'2020-07-17') ]\n",
    "last_month"
   ]
  },
  {
   "cell_type": "code",
   "execution_count": null,
   "id": "fbc6793d-f03a-4910-8742-f76e97fa4efc",
   "metadata": {},
   "outputs": [],
   "source": [
    "df['deaths'].plot()\n",
    "plt.legend()\n",
    "plt.show()"
   ]
  },
  {
   "cell_type": "code",
   "execution_count": null,
   "id": "742c184d-830e-4ee0-92f6-7d257d2b81f5",
   "metadata": {},
   "outputs": [],
   "source": [
    "df['recovered'].plot()\n",
    "plt.legend()\n",
    "plt.show()"
   ]
  },
  {
   "cell_type": "code",
   "execution_count": null,
   "id": "47190491-1ed9-4adc-bb0b-4660a3b599dd",
   "metadata": {},
   "outputs": [],
   "source": [
    "plt.boxplot(df['active'])\n",
    "plt.show()"
   ]
  },
  {
   "cell_type": "code",
   "execution_count": null,
   "id": "5d3ae901-1423-4e37-a20b-277b9063b51f",
   "metadata": {},
   "outputs": [],
   "source": [
    "plt.bar(df['region'], df['active'])\n",
    "plt.xlabel('Region')\n",
    "plt.ylabel('Active')\n",
    "plt.title('Title of the Plot')\n",
    "plt.show()"
   ]
  },
  {
   "cell_type": "code",
   "execution_count": null,
   "id": "630b3492-d566-4d66-8fb5-d507a2b016d4",
   "metadata": {},
   "outputs": [],
   "source": [
    "plt.title('Recovered People')\n",
    "plt.pie(recover,labels=['Africa', 'Americas', 'Eastern Mediterranean', 'Europe',\n",
    "       'South-East Asia', 'Western Pacific'],autopct='% .2f%%')\n",
    "plt.legend()\n",
    "plt.show()"
   ]
  },
  {
   "cell_type": "code",
   "execution_count": null,
   "id": "47d368a4-ceb3-429e-90dc-df6ae393c476",
   "metadata": {},
   "outputs": [],
   "source": [
    "death=df.groupby(by='region')['confirmed'].sum()"
   ]
  },
  {
   "cell_type": "code",
   "execution_count": null,
   "id": "acc6e2b2-3c03-4d4e-9eb7-769348d4c70a",
   "metadata": {},
   "outputs": [],
   "source": [
    "plt.title('region wise confirmed')\n",
    "plt.pie(death,autopct='%.2f%%',labels=['Africa', 'Americas', 'Eastern Mediterranean', 'Europe',\n",
    "       'South-East Asia', 'Western Pacific'])\n",
    "plt.legend()\n",
    "plt.show()"
   ]
  },
  {
   "cell_type": "code",
   "execution_count": null,
   "id": "4f7c14f5-f9b7-4a18-be40-a47a38a07e66",
   "metadata": {},
   "outputs": [],
   "source": [
    "plt.subplot(2,2,1)\n",
    "plt.title('--Confirmed--')\n",
    "plt.plot(df['confirmed'])\n",
    "\n",
    "plt.subplot(2,2,2)\n",
    "plt.title('--deaths--')\n",
    "plt.plot(df['deaths'])\n",
    "plt.show()\n",
    "\n",
    "plt.subplot(2,2,3)\n",
    "plt.title('--Recovered--')\n",
    "plt.plot(df['recovered'])\n",
    "plt.show()\n",
    "\n",
    "plt.subplot(2,2,4)\n",
    "plt.title('--Active')\n",
    "plt.plot(df['active'])\n",
    "plt.show()"
   ]
  },
  {
   "cell_type": "code",
   "execution_count": null,
   "id": "5b63e94e-c323-4685-909a-009c75feafdb",
   "metadata": {},
   "outputs": [],
   "source": []
  },
  {
   "cell_type": "code",
   "execution_count": null,
   "id": "a3833291-ae0d-4084-9658-3e07d49af074",
   "metadata": {},
   "outputs": [],
   "source": []
  }
 ],
 "metadata": {
  "kernelspec": {
   "display_name": "Python 3 (ipykernel)",
   "language": "python",
   "name": "python3"
  },
  "language_info": {
   "codemirror_mode": {
    "name": "ipython",
    "version": 3
   },
   "file_extension": ".py",
   "mimetype": "text/x-python",
   "name": "python",
   "nbconvert_exporter": "python",
   "pygments_lexer": "ipython3",
   "version": "3.12.2"
  }
 },
 "nbformat": 4,
 "nbformat_minor": 5
}
